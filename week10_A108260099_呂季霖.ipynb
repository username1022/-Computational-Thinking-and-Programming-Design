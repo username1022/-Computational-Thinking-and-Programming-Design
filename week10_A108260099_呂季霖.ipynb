{
  "nbformat": 4,
  "nbformat_minor": 0,
  "metadata": {
    "colab": {
      "name": "week10-A108260099-呂季霖.ipynb",
      "provenance": [],
      "collapsed_sections": [],
      "include_colab_link": true
    },
    "kernelspec": {
      "name": "python3",
      "display_name": "Python 3"
    }
  },
  "cells": [
    {
      "cell_type": "markdown",
      "metadata": {
        "id": "view-in-github",
        "colab_type": "text"
      },
      "source": [
        "<a href=\"https://colab.research.google.com/github/username1022/-Computational-Thinking-and-Programming-Design/blob/master/week10_A108260099_%E5%91%82%E5%AD%A3%E9%9C%96.ipynb\" target=\"_parent\"><img src=\"https://colab.research.google.com/assets/colab-badge.svg\" alt=\"Open In Colab\"/></a>"
      ]
    },
    {
      "cell_type": "code",
      "metadata": {
        "id": "iB0nxkasVCwR",
        "colab_type": "code",
        "colab": {
          "base_uri": "https://localhost:8080/",
          "height": 102
        },
        "outputId": "d050a578-914e-46d5-ee62-c97549f7812f"
      },
      "source": [
        "print(\"You are on a deserted island in a 2D world.\")\n",
        "print(\"Try to survive until rescue arrives!\")\n",
        "print(\"Available commands are in CAPITAL letters.\")\n",
        "print(\"Any other command exits the program\")\n",
        "print(\"First LOOK around...\")"
      ],
      "execution_count": 1,
      "outputs": [
        {
          "output_type": "stream",
          "text": [
            "You are on a deserted island in a 2D world.\n",
            "Try to survive until rescue arrives!\n",
            "Available commands are in CAPITAL letters.\n",
            "Any other command exits the program\n",
            "First LOOK around...\n"
          ],
          "name": "stdout"
        }
      ]
    },
    {
      "cell_type": "code",
      "metadata": {
        "id": "LZqui9ZMWyKU",
        "colab_type": "code",
        "colab": {
          "base_uri": "https://localhost:8080/",
          "height": 306
        },
        "outputId": "83a7bd1e-6575-44db-cd5e-e2b294eadeb1"
      },
      "source": [
        "   do = input(\":: \")\n",
        "if do == \"LOOK\": \n",
        "    print(\"You are stuck in a sand ditch.\") \n",
        "    print(\"Crawl out LEFT or RIGHT.\")\n",
        "\n",
        "\n",
        "    do = input(\":: \")\n",
        " if do == \"LEFT\":\n",
        "     print(\"You see a STARFISH and a CRAB on the sand.\") \n",
        "     print(\"And you're hungry! Which do you eat?\")\n",
        "\n",
        " \n",
        "    do = input(\":: \") \n",
        " if do == \"STARFISH\": \n",
        "     print(\"Oh no! You immediately don't feel well.\")\n",
        "     print(\"You do not survive :(\")\n",
        " elif do == \"CRAB\": \n",
        "      print(\"Raw crab should be fine, right? YES or NO.\") \n",
        "\n",
        "\n",
        "    do = input(\":: \") \n",
        " if do == \"YES\":\n",
        "     print(\"Ok, You eat it raw. Fingers crossed.\")\n",
        "     print(\"Food in your belly helps you see a TREE.\") \n",
        "\n",
        " \n",
        "     do = input(\":: \") \n",
        " if do == \"TREE\":\n",
        "     print(\"It's a coconut tree! And you're thirsty!\") \n",
        "     print(\"Do you drink the coconut water? YES or NO.\")\n",
        "\n",
        "\n",
        "    do = input(\":: \")\n",
        " if do == \"YES\":\n",
        "     print(\"Oh boy. Coconut water and raw crab don't mix.\")\n",
        "     print(\"You do not survive :(\") \n",
        " elif do == \"NO\":\n",
        "     print(\"Good choice.\")\n",
        "     print(\"Look! It's a rescue plane! You made it! \\o/\")\n",
        "\n",
        " elif do == \"NO\":\n",
        "     print(\"Well, there's nothing else left to eat.\")\n",
        "     print(\"You do not survive :(\") \n",
        "\n",
        " elif do == \"RIGHT\": \n",
        "     print(\"No can do. That side is very slippery.\") \n",
        "     print(\"You fall very far into some weird cavern.\") \n",
        "     print(\"You do not survive :(\") \n",
        "\n",
        "else: \n",
        "     print(\"You can only do actions shown in capital letters.\") \n",
        "     print(\"Try again!\") "
      ],
      "execution_count": 11,
      "outputs": [
        {
          "output_type": "stream",
          "text": [
            ":: LOOK\n",
            "You are stuck in a sand ditch.\n",
            "Crawl out LEFT or RIGHT.\n",
            ":: LEFT\n",
            "You see a STARFISH and a CRAB on the sand.\n",
            "And you're hungry! Which do you eat?\n",
            ":: CRAB\n",
            "Raw crab should be fine, right? YES or NO.\n",
            ":: YES\n",
            "Ok, You eat it raw. Fingers crossed.\n",
            "Food in your belly helps you see a TREE.\n",
            ":: TREE\n",
            "It's a coconut tree! And you're thirsty!\n",
            "Do you drink the coconut water? YES or NO.\n",
            ":: YES\n",
            "Oh boy. Coconut water and raw crab don't mix.\n",
            "You do not survive :(\n"
          ],
          "name": "stdout"
        }
      ]
    },
    {
      "cell_type": "code",
      "metadata": {
        "id": "b_q9-SsaZ0um",
        "colab_type": "code",
        "colab": {
          "base_uri": "https://localhost:8080/",
          "height": 68
        },
        "outputId": "dfe38b96-997f-45f2-8a23-82bf342e6ab9"
      },
      "source": [
        "import random\n",
        "my = int(input(\"請出拳 [0] 剪⼑ [1] ⽯頭 [2] 布\"))\n",
        "print(\"我出拳為\", my)\n",
        "computer = random.randint(0, 2)\n",
        "print(\"電腦出拳為\", computer)"
      ],
      "execution_count": 12,
      "outputs": [
        {
          "output_type": "stream",
          "text": [
            "請出拳 [0] 剪⼑ [1] ⽯頭 [2] 布1\n",
            "我出拳為 1\n",
            "電腦出拳為 2\n"
          ],
          "name": "stdout"
        }
      ]
    },
    {
      "cell_type": "code",
      "metadata": {
        "id": "h-HbfwXjaAn2",
        "colab_type": "code",
        "colab": {
          "base_uri": "https://localhost:8080/",
          "height": 34
        },
        "outputId": "1548ed11-5fab-4710-cd99-f3db08f6bb74"
      },
      "source": [
        "if my == 0:\n",
        "      if computer == 0:\n",
        "          print('平⼿')\n",
        "      elif computer == 1:\n",
        "          print('電腦獲勝')\n",
        "      else:\n",
        "          print('玩家獲勝')\n",
        "elif my == 1:\n",
        "      if computer == 0:\n",
        "          print('玩家獲勝')\n",
        "      elif computer == 1:\n",
        "          print('平⼿')\n",
        "      else:\n",
        "          print('電腦獲勝')\n",
        "else:\n",
        "      if computer == 1:\n",
        "          print('電腦獲勝')\n",
        "      elif computer == 2:\n",
        "          print('玩家獲勝')\n",
        "      else:\n",
        "          print('平⼿')"
      ],
      "execution_count": 16,
      "outputs": [
        {
          "output_type": "stream",
          "text": [
            "電腦獲勝\n"
          ],
          "name": "stdout"
        }
      ]
    },
    {
      "cell_type": "code",
      "metadata": {
        "id": "G6SSZ6ykbk63",
        "colab_type": "code",
        "colab": {
          "base_uri": "https://localhost:8080/",
          "height": 68
        },
        "outputId": "ff686e04-f146-4254-e99a-8dbbcbbe320f"
      },
      "source": [
        "import random\n",
        "my_choice = int(input(\"請出拳 [0] 剪⼑ [1] ⽯頭 [2] 布\"))\n",
        "print(\"我出拳為\", my_choice)\n",
        "com_choice = random.randint(0, 2)\n",
        "print(\"電腦出拳為\", com_choice)"
      ],
      "execution_count": 17,
      "outputs": [
        {
          "output_type": "stream",
          "text": [
            "請出拳 [0] 剪⼑ [1] ⽯頭 [2] 布1\n",
            "我出拳為 1\n",
            "電腦出拳為 2\n"
          ],
          "name": "stdout"
        }
      ]
    },
    {
      "cell_type": "code",
      "metadata": {
        "id": "W3e60e8zbtjp",
        "colab_type": "code",
        "colab": {
          "base_uri": "https://localhost:8080/",
          "height": 34
        },
        "outputId": "d3d80a50-c0e8-4f1e-84b5-79fc8105cd37"
      },
      "source": [
        "if my_choice == (com_choice + 1) % 3:\n",
        "    print(\"我贏了\")\n",
        "elif my_choice == com_choice:\n",
        "    print(\"平⼿\")\n",
        "else:\n",
        "    print(\"我輸了\")"
      ],
      "execution_count": 18,
      "outputs": [
        {
          "output_type": "stream",
          "text": [
            "我輸了\n"
          ],
          "name": "stdout"
        }
      ]
    },
    {
      "cell_type": "code",
      "metadata": {
        "id": "TKOVFbKlb2Tt",
        "colab_type": "code",
        "colab": {
          "base_uri": "https://localhost:8080/",
          "height": 68
        },
        "outputId": "0afa2b4b-1dbe-46af-cfa3-46d376ddc459"
      },
      "source": [
        "import random\n",
        "my_choice = int(input(\"請出拳 [0] 蟲 [1] 雞 [2] 老虎 [3] 棒⼦\"))\n",
        "print(\"你出的拳:\", my_choice)\n",
        "com_choice = random.randint(0, 3)\n",
        "print(\"電腦出拳為\", com_choice)"
      ],
      "execution_count": 19,
      "outputs": [
        {
          "output_type": "stream",
          "text": [
            "請出拳 [0] 蟲 [1] 雞 [2] 老虎 [3] 棒⼦1\n",
            "你出的拳: 1\n",
            "電腦出拳為 3\n"
          ],
          "name": "stdout"
        }
      ]
    },
    {
      "cell_type": "code",
      "metadata": {
        "id": "TY2mdOPvb-5i",
        "colab_type": "code",
        "colab": {
          "base_uri": "https://localhost:8080/",
          "height": 34
        },
        "outputId": "ec4850d1-fc0d-49bd-a01a-d9d118e70f31"
      },
      "source": [
        "if my_choice == (com_choice + 1) % 4:\n",
        " print(\"我贏了\")\n",
        "elif com_choice == (my_choice + 1) % 4:\n",
        " print(\"電腦贏了\")\n",
        "else:\n",
        " print(\"平⼿\")"
      ],
      "execution_count": 20,
      "outputs": [
        {
          "output_type": "stream",
          "text": [
            "平⼿\n"
          ],
          "name": "stdout"
        }
      ]
    },
    {
      "cell_type": "code",
      "metadata": {
        "id": "OHOiG5Rsfmwg",
        "colab_type": "code",
        "colab": {
          "base_uri": "https://localhost:8080/",
          "height": 51
        },
        "outputId": "ff40865e-7d39-4112-bc1d-6c08ba30ad92"
      },
      "source": [
        "s=eval(input(\"請輸入度數\"))\n",
        "if s>=0.9:\n",
        "    print(\"正常\")\n",
        "\n",
        "if s<0.9:\n",
        "    print(\"近視\")   "
      ],
      "execution_count": 35,
      "outputs": [
        {
          "output_type": "stream",
          "text": [
            "請輸入度數0.8\n",
            "近視\n"
          ],
          "name": "stdout"
        }
      ]
    },
    {
      "cell_type": "code",
      "metadata": {
        "id": "LDZ87-blkmIo",
        "colab_type": "code",
        "colab": {
          "base_uri": "https://localhost:8080/",
          "height": 51
        },
        "outputId": "de2efe99-6d39-41e9-ef26-2cbf1fc19eed"
      },
      "source": [
        "s = int(input(\"請輸入年份: \"))\n",
        "if (s % 4) == 0:\n",
        "   if (s % 100) == 0:\n",
        "       if (s % 400) == 0:\n",
        "           print(\"{0} 是潤年\".format(s))  \n",
        "       else:\n",
        "           print(\"{0} 不是潤年\".format(s))\n",
        "   else:\n",
        "       print(\"{0} 是潤年\".format(s))       \n",
        "else:\n",
        "   print(\"{0} 不是潤年\".format(s))"
      ],
      "execution_count": 37,
      "outputs": [
        {
          "output_type": "stream",
          "text": [
            "請輸入年份: 2012\n",
            "2012 是潤年\n"
          ],
          "name": "stdout"
        }
      ]
    },
    {
      "cell_type": "code",
      "metadata": {
        "id": "9yXUqVNinbyk",
        "colab_type": "code",
        "colab": {
          "base_uri": "https://localhost:8080/",
          "height": 51
        },
        "outputId": "596b2f9a-7e7b-4643-f82a-b3ff08556200"
      },
      "source": [
        "s=eval(input(\"請輸入體溫\"))\n",
        "if s<36:\n",
        "    print(\"體溫過低\")\n",
        "if 36<=s<38:\n",
        "    print(\"體溫正常\")\n",
        "if 38<=s<39:\n",
        "    print(\"體溫有點燒\")   \n",
        "if s>39:\n",
        "    print(\"體溫很燒\")   "
      ],
      "execution_count": 39,
      "outputs": [
        {
          "output_type": "stream",
          "text": [
            "請輸入體溫36.5\n",
            "體溫正常\n"
          ],
          "name": "stdout"
        }
      ]
    }
  ]
}