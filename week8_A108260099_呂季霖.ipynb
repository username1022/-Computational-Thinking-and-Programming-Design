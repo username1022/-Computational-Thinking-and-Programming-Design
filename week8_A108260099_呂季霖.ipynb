{
  "nbformat": 4,
  "nbformat_minor": 0,
  "metadata": {
    "colab": {
      "name": "week8-A108260099-呂季霖.ipynb",
      "provenance": [],
      "collapsed_sections": [],
      "include_colab_link": true
    },
    "kernelspec": {
      "name": "python3",
      "display_name": "Python 3"
    }
  },
  "cells": [
    {
      "cell_type": "markdown",
      "metadata": {
        "id": "view-in-github",
        "colab_type": "text"
      },
      "source": [
        "<a href=\"https://colab.research.google.com/github/username1022/-Computational-Thinking-and-Programming-Design/blob/master/week8_A108260099_%E5%91%82%E5%AD%A3%E9%9C%96.ipynb\" target=\"_parent\"><img src=\"https://colab.research.google.com/assets/colab-badge.svg\" alt=\"Open In Colab\"/></a>"
      ]
    },
    {
      "cell_type": "code",
      "metadata": {
        "id": "ZldYAYJcPmpo",
        "colab_type": "code",
        "colab": {
          "base_uri": "https://localhost:8080/",
          "height": 68
        },
        "outputId": "2654b83c-3cba-47b6-d592-3f59bfdee375"
      },
      "source": [
        "print(\"Welcome to the Mashup Game!\")\n",
        "name1 = input(\"Enter one full name (FIRST LAST): \")\n",
        "name2 = input(\"Enter another full name (FIRST LAST): \") "
      ],
      "execution_count": 1,
      "outputs": [
        {
          "output_type": "stream",
          "text": [
            "Welcome to the Mashup Game!\n",
            "Enter one full name (FIRST LAST): michael lu\n",
            "Enter another full name (FIRST LAST): michael\n"
          ],
          "name": "stdout"
        }
      ]
    },
    {
      "cell_type": "code",
      "metadata": {
        "id": "RTNkQ01WQK0k",
        "colab_type": "code",
        "colab": {
          "base_uri": "https://localhost:8080/",
          "height": 85
        },
        "outputId": "15e49466-ae41-46c0-c5f1-1096928b4bb7"
      },
      "source": [
        "space = name1.find(\" \")\n",
        "name1_first = name1[0:space] \n",
        "name1_last = name1[space+1:len(name1)]\n",
        "space = name2.find(\" \")\n",
        "name2_first = name2[0:space]\n",
        "name2_last = name2[space+1:len(name2)]\n",
        "print(name1_first)\n",
        "print(name1_last)\n",
        "print(name2_first)\n",
        "print(name2_last)\n",
        "\n",
        "len_name1_first = len(name1_first)\n",
        "len_name2_first = len(name2_first)\n",
        "len_name1_last = len(name1_last)\n",
        "len_name2_last = len(name2_last)\n",
        "index_name1_first = int(len_name1_first/2)\n",
        "index_name2_first = int(len_name2_first/2)\n",
        "index_name1_last = int(len_name1_last/2)\n",
        "index_name2_last = int(len_name2_last/2)\n",
        "\n",
        "lefthalf_name1_first = name1_first[0:index_name1_first]\n",
        "righthalf_name1_first = name1_first[index_name1_first:len_name1_first]\n",
        "lefthalf_name2_first = name2_first[0:index_name2_first]\n",
        "righthalf_name2_first = name2_first[index_name2_first:len_name2_first]\n",
        "lefthalf_name1_last = name1_last[0:index_name1_last]\n",
        "righthalf_name1_last = name1_last[index_name1_last:len_name1_last]\n",
        "lefthalf_name2_last = name2_last[0:index_name2_last]\n",
        "righthalf_name2_last = name2_last[index_name2_last:len_name2_last]\n",
        "\n",
        "newname1_first = lefthalf_name1_first.capitalize() + righthalf_name1_first.lower()\n",
        "\n",
        "newname1_last = lefthalf_name1_last.capitalize() + righthalf_name2_last.lower()\n",
        "newname2_first = lefthalf_name2_first.capitalize() + righthalf_name1_first.lower()\n",
        "newname2_last = lefthalf_name2_last.capitalize() + righthalf_name1_last.lower()\n"
      ],
      "execution_count": 2,
      "outputs": [
        {
          "output_type": "stream",
          "text": [
            "michael\n",
            "lu\n",
            "michae\n",
            "michael\n"
          ],
          "name": "stdout"
        }
      ]
    },
    {
      "cell_type": "code",
      "metadata": {
        "id": "Q8-aLCvsQ0A3",
        "colab_type": "code",
        "colab": {
          "base_uri": "https://localhost:8080/",
          "height": 68
        },
        "outputId": "44391420-26b8-4acb-bb89-22a9992e2003"
      },
      "source": [
        "print(\"All done! Here are two possibilities, pick the one you like best!\")\n",
        "print(newname1_first, newname1_last)\n",
        "print(newname2_first, newname2_last)"
      ],
      "execution_count": 3,
      "outputs": [
        {
          "output_type": "stream",
          "text": [
            "All done! Here are two possibilities, pick the one you like best!\n",
            "Michael Lhael\n",
            "Michael Micu\n"
          ],
          "name": "stdout"
        }
      ]
    },
    {
      "cell_type": "code",
      "metadata": {
        "id": "FLF0DuLKRdwT",
        "colab_type": "code",
        "colab": {
          "base_uri": "https://localhost:8080/",
          "height": 119
        },
        "outputId": "88af3b5e-01cf-4904-a14b-8f0d2adfca78"
      },
      "source": [
        "print(\"Welcome to the Mashup Game!\")\n",
        "name1 = input(\"Enter one full name (FIRST LAST): \")\n",
        "name2 = input(\"Enter another full name (FIRST LAST): \")\n",
        "space = name1.find(\" \")\n",
        "name1_first = name1[0:space]\n",
        "name1_last = name1[space+1:len(name1)]\n",
        "space = name2.find(\" \")\n",
        "name2_first = name2[0:space]\n",
        "name2_last = name2[space+1:len(name2)]\n",
        "len_name1_first = len(name1_first)\n",
        "len_name2_first = len(name2_first)\n",
        "len_name1_last = len(name1_last)\n",
        "len_name2_last = len(name2_last)\n",
        "index_name1_first = int(len_name1_first/2)\n",
        "index_name2_first = int(len_name2_first/2)\n",
        "index_name1_last = int(len_name1_last/2)\n",
        "index_name2_last = int(len_name2_last/2)\n",
        "lefthalf_name1_first = name1_first[0:index_name1_first]\n",
        "righthalf_name1_first = name1_first[index_name1_first:len_name1_first]\n",
        "lefthalf_name2_first = name2_first[0:index_name2_first]\n",
        "righthalf_name2_first = name2_first[index_name2_first:len_name2_first]\n",
        "lefthalf_name1_last = name1_last[0:index_name1_last]\n",
        "righthalf_name1_last = name1_last[index_name1_last:len_name1_last]\n",
        "lefthalf_name2_last = name2_last[0:index_name2_last]\n",
        "righthalf_name2_last = name2_last[index_name2_last:len_name2_last]\n",
        "newname1_first = lefthalf_name1_first.capitalize() + righthalf_name1_first.lower()\n",
        "\n",
        "newname1_last = lefthalf_name1_last.capitalize() + righthalf_name2_last.lower()\n",
        "newname2_first = lefthalf_name2_first.capitalize() + righthalf_name1_first.lower()\n",
        "newname2_last = lefthalf_name2_last.capitalize() + righthalf_name1_last.lower()\n",
        "print(\"All done! Here are two possibilities, pick the one you like best!\")\n",
        "print(newname1_first, newname1_last)\n",
        "print(newname2_first, newname2_last)"
      ],
      "execution_count": 17,
      "outputs": [
        {
          "output_type": "stream",
          "text": [
            "Welcome to the Mashup Game!\n",
            "Enter one full name (FIRST LAST): 呂 季霖\n",
            "Enter another full name (FIRST LAST): 吳 建賢\n",
            "All done! Here are two possibilities, pick the one you like best!\n",
            "呂 季賢\n",
            "呂 建霖\n"
          ],
          "name": "stdout"
        }
      ]
    },
    {
      "cell_type": "code",
      "metadata": {
        "id": "-VyHrV6sRlG-",
        "colab_type": "code",
        "colab": {
          "base_uri": "https://localhost:8080/",
          "height": 51
        },
        "outputId": "b74188ed-f28a-49c5-9e5b-dfb4131c833d"
      },
      "source": [
        "s = input('請輸入一個字串？')\n",
        "print('迴文判斷結果為', s == s[::-1])\n"
      ],
      "execution_count": 7,
      "outputs": [
        {
          "output_type": "stream",
          "text": [
            "請輸入一個字串？abcdefggfedcba\n",
            "迴文判斷結果為 True\n"
          ],
          "name": "stdout"
        }
      ]
    },
    {
      "cell_type": "code",
      "metadata": {
        "id": "zus_UJtSRwDU",
        "colab_type": "code",
        "colab": {
          "base_uri": "https://localhost:8080/",
          "height": 136
        },
        "outputId": "2934cfd4-f8d6-4ec3-8cfb-64992c5ff3f1"
      },
      "source": [
        "待辦事項 = []\n",
        "工作 = input('請輸入待辦事項？')\n",
        "待辦事項.append(工作)\n",
        "工作 = input('請輸入待辦事項？')\n",
        "待辦事項.append(工作)\n",
        "工作 = input('請輸入待辦事項？')\n",
        "待辦事項.append(工作)\n",
        "工作 = input('請輸入待辦事項？')\n",
        "待辦事項.append(工作)\n",
        "工作 = input('請輸入待辦事項？')\n",
        "待辦事項.append(工作)\n",
        "print(待辦事項.pop(0), 待辦事項.pop(0), 待辦事項)\n",
        "print(待辦事項.pop(), 待辦事項)\n"
      ],
      "execution_count": 9,
      "outputs": [
        {
          "output_type": "stream",
          "text": [
            "請輸入待辦事項？打球\n",
            "請輸入待辦事項？閱讀\n",
            "請輸入待辦事項？吃飯\n",
            "請輸入待辦事項？借書\n",
            "請輸入待辦事項？寫程式\n",
            "打球 閱讀 ['吃飯', '借書', '寫程式']\n",
            "寫程式 ['吃飯', '借書']\n"
          ],
          "name": "stdout"
        }
      ]
    },
    {
      "cell_type": "code",
      "metadata": {
        "id": "D35ifSHlSLa8",
        "colab_type": "code",
        "colab": {
          "base_uri": "https://localhost:8080/",
          "height": 85
        },
        "outputId": "84e5b5c7-08fc-457a-a044-5f741b5766a5"
      },
      "source": [
        "字典 = {'dog':'狗', 'fish':'魚', 'cat':'貓', 'pig':'豬'}\n",
        "print(字典.keys())\n",
        "print(字典)\n",
        "英文 = input('請輸入一個英文單字？')\n",
        "print(字典.get(英文,'字典找不到該單字'))"
      ],
      "execution_count": 12,
      "outputs": [
        {
          "output_type": "stream",
          "text": [
            "dict_keys(['dog', 'fish', 'cat', 'pig'])\n",
            "{'dog': '狗', 'fish': '魚', 'cat': '貓', 'pig': '豬'}\n",
            "請輸入一個英文單字？pig\n",
            "豬\n"
          ],
          "name": "stdout"
        }
      ]
    },
    {
      "cell_type": "code",
      "metadata": {
        "id": "fHqYbdiZScRf",
        "colab_type": "code",
        "colab": {
          "base_uri": "https://localhost:8080/",
          "height": 85
        },
        "outputId": "78c81845-403d-4a9f-d294-37044f565b31"
      },
      "source": [
        "字典 = {'dog':'狗', 'fish':'魚', 'cat':'貓', 'pig':'豬'}\n",
        "print(字典.keys())\n",
        "print(字典)\n",
        "英文 = input('請輸入一個英文單字？')\n",
        "print(字典.get(英文,'字典找不到該單字'))"
      ],
      "execution_count": 13,
      "outputs": [
        {
          "output_type": "stream",
          "text": [
            "dict_keys(['dog', 'fish', 'cat', 'pig'])\n",
            "{'dog': '狗', 'fish': '魚', 'cat': '貓', 'pig': '豬'}\n",
            "請輸入一個英文單字？iphone\n",
            "字典找不到該單字\n"
          ],
          "name": "stdout"
        }
      ]
    },
    {
      "cell_type": "code",
      "metadata": {
        "id": "FRQ6TTruSv4-",
        "colab_type": "code",
        "colab": {
          "base_uri": "https://localhost:8080/",
          "height": 34
        },
        "outputId": "0bbc4fd1-379d-4894-c62c-af9a2ceb2d4a"
      },
      "source": [
        "詩 = '春眠不覺曉，處處聞啼鳥。夜來風雨聲，花落知多少。'\n",
        "字 = set(詩)\n",
        "字.remove('，')\n",
        "字.remove('。')\n",
        "print(字)\n"
      ],
      "execution_count": 14,
      "outputs": [
        {
          "output_type": "stream",
          "text": [
            "{'雨', '花', '聲', '風', '少', '處', '曉', '啼', '多', '聞', '春', '不', '夜', '覺', '來', '鳥', '眠', '知', '落'}\n"
          ],
          "name": "stdout"
        }
      ]
    },
    {
      "cell_type": "code",
      "metadata": {
        "id": "wYN4Uk3nS3v5",
        "colab_type": "code",
        "colab": {
          "base_uri": "https://localhost:8080/",
          "height": 71
        },
        "outputId": "e9bf3cec-04b1-4aea-dd05-46e8de542e7d"
      },
      "source": [
        "星期 = ['Sunday', 'Monday', 'Tuesday', 'Wednesday', 'Thursday', 'Friday', 'Saturday']\n",
        "月份 = ['January', 'February', 'March', 'April', 'May', 'June', \\\n",
        " 'July', 'August', 'September', 'October', 'November', 'December']\n",
        "dic = {'week':星期, 'month':月份}\n",
        "print(dic['month'])\n",
        "print(dic['month'][7])"
      ],
      "execution_count": 15,
      "outputs": [
        {
          "output_type": "stream",
          "text": [
            "['January', 'February', 'March', 'April', 'May', 'June', 'July', 'August', 'September', 'October', 'November', 'December']\n",
            "August\n"
          ],
          "name": "stdout"
        }
      ]
    },
    {
      "cell_type": "code",
      "metadata": {
        "id": "TsAGDH9sTGOK",
        "colab_type": "code",
        "colab": {
          "base_uri": "https://localhost:8080/",
          "height": 85
        },
        "outputId": "ef25e288-f081-4ab5-97e8-7d318d1ffb04"
      },
      "source": [
        "s = input('請輸入一行英文句子？')\n",
        "words = s.split(' ')\n",
        "print('將英文句子以空白字元切割後，獲得單字為', words)\n",
        "s2 = ' '.join(words)\n",
        "print('以空白字元結合所有單字後，獲得句子為', s2)\n",
        "s3 = s.title()\n",
        "print('將每個單字字首轉大寫後，獲得句子為',s3)\n"
      ],
      "execution_count": 16,
      "outputs": [
        {
          "output_type": "stream",
          "text": [
            "請輸入一行英文句子？hi my name is Michael\n",
            "將英文句子以空白字元切割後，獲得單字為 ['hi', 'my', 'name', 'is', 'Michael']\n",
            "以空白字元結合所有單字後，獲得句子為 hi my name is Michael\n",
            "將每個單字字首轉大寫後，獲得句子為 Hi My Name Is Michael\n"
          ],
          "name": "stdout"
        }
      ]
    },
    {
      "cell_type": "code",
      "metadata": {
        "id": "E8Y_oKxtTo48",
        "colab_type": "code",
        "colab": {
          "base_uri": "https://localhost:8080/",
          "height": 68
        },
        "outputId": "f033bafb-ad0d-4c60-c51d-ec19940a7a70"
      },
      "source": [
        "全班學生 = set(['John', 'Mary', 'Tina', 'Fiona', 'Claire', 'Eva', 'Ben', 'Bill', 'Bert'\n",
        "])\n",
        "英文及格 = set(['John', 'Mary', 'Fiona', 'Claire', 'Ben', 'Bill'])\n",
        "數學及格 = set(['Mary', 'Fiona', 'Claire', 'Eva', 'Ben'])\n",
        "print('英文與數學都及格', 英文及格&數學及格)\n",
        "print('數學不及格', 全班學生-數學及格)\n",
        "print('英文及格與數學不及格', 英文及格&(全班學生-數學及格))"
      ],
      "execution_count": 18,
      "outputs": [
        {
          "output_type": "stream",
          "text": [
            "英文與數學都及格 {'Claire', 'Fiona', 'Mary', 'Ben'}\n",
            "數學不及格 {'John', 'Tina', 'Bert', 'Bill'}\n",
            "英文及格與數學不及格 {'John', 'Bill'}\n"
          ],
          "name": "stdout"
        }
      ]
    },
    {
      "cell_type": "code",
      "metadata": {
        "id": "3dIHHkaDTvNG",
        "colab_type": "code",
        "colab": {
          "base_uri": "https://localhost:8080/",
          "height": 34
        },
        "outputId": "53e66155-cba2-4980-93a6-d3b796a108dc"
      },
      "source": [
        "p1 = '紅豆生南國，春來發幾枝？願君多采擷，此物最相思。'\n",
        "p2 = '春眠不覺曉，處處聞啼鳥。夜來風雨聲，花落知多少。'\n",
        "s1 = set(p1)\n",
        "s1.remove('，')\n",
        "s1.remove('。')\n",
        "s1.remove('？')\n",
        "s2 = set(p2)\n",
        "s2.remove('，')\n",
        "s2.remove('。')\n",
        "print(s1&s2)"
      ],
      "execution_count": 19,
      "outputs": [
        {
          "output_type": "stream",
          "text": [
            "{'春', '來', '多'}\n"
          ],
          "name": "stdout"
        }
      ]
    },
    {
      "cell_type": "code",
      "metadata": {
        "id": "IMlhubEFT65A",
        "colab_type": "code",
        "colab": {
          "base_uri": "https://localhost:8080/",
          "height": 153
        },
        "outputId": "13cd1214-db81-417f-de09-458bd2d8ba23"
      },
      "source": [
        "mail = dict()\n",
        "name = input('請輸入姓名？')\n",
        "email = input('請輸入電子郵件？')\n",
        "mail[name]=email\n",
        "name = input('請輸入姓名？')\n",
        "email = input('請輸入電子郵件？')\n",
        "mail[name]=email\n",
        "name = input('請輸入姓名？')\n",
        "email = input('請輸入電子郵件？')\n",
        "mail[name]=email\n",
        "name = input('請輸入要查詢電子郵件的姓名？')\n",
        "print(mail[name])"
      ],
      "execution_count": 21,
      "outputs": [
        {
          "output_type": "stream",
          "text": [
            "請輸入姓名？max\n",
            "請輸入電子郵件？max@gmail.com\n",
            "請輸入姓名？sam\n",
            "請輸入電子郵件？sam@gmail.com\n",
            "請輸入姓名？may\n",
            "請輸入電子郵件？may@gmail.com\n",
            "請輸入要查詢電子郵件的姓名？may\n",
            "may@gmail.com\n"
          ],
          "name": "stdout"
        }
      ]
    },
    {
      "cell_type": "code",
      "metadata": {
        "id": "yC-SGknokFkR",
        "colab_type": "code",
        "colab": {}
      },
      "source": [
        ""
      ],
      "execution_count": 0,
      "outputs": []
    },
    {
      "cell_type": "code",
      "metadata": {
        "id": "uYzGIie0iyay",
        "colab_type": "code",
        "colab": {
          "base_uri": "https://localhost:8080/",
          "height": 85
        },
        "outputId": "9633cc42-7df2-4a25-aa4e-48892bd81c5a"
      },
      "source": [
        "s = input('請輸入一行英文句子？')\n",
        "words = s.split(' ')\n",
        "print('將英文句子以空白字元切割後，獲得單字為', words)\n",
        "\n",
        "s2 = ' '.join(words)\n",
        "print('以空白字元結合所有單字後，獲得句子為', s2)\n",
        "\n",
        "s3 = s.title()\n",
        "print('將每個單字字首轉大寫後，獲得句子為',s3)\n",
        "\n",
        "\n"
      ],
      "execution_count": 28,
      "outputs": [
        {
          "output_type": "stream",
          "text": [
            "請輸入一行英文句子？an apple a day keeps the doctor away\n",
            "將英文句子以空白字元切割後，獲得單字為 ['an', 'apple', 'a', 'day', 'keeps', 'the', 'doctor', 'away']\n",
            "以空白字元結合所有單字後，獲得句子為 an apple a day keeps the doctor away\n",
            "將每個單字字首轉大寫後，獲得句子為 An Apple A Day Keeps The Doctor Away\n"
          ],
          "name": "stdout"
        }
      ]
    }
  ]
}