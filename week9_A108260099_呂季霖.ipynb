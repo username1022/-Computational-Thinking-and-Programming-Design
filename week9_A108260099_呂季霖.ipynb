{
  "nbformat": 4,
  "nbformat_minor": 0,
  "metadata": {
    "colab": {
      "name": "week9-A108260099-呂季霖.ipynb",
      "provenance": [],
      "collapsed_sections": [],
      "include_colab_link": true
    },
    "kernelspec": {
      "name": "python3",
      "display_name": "Python 3"
    }
  },
  "cells": [
    {
      "cell_type": "markdown",
      "metadata": {
        "id": "view-in-github",
        "colab_type": "text"
      },
      "source": [
        "<a href=\"https://colab.research.google.com/github/username1022/-Computational-Thinking-and-Programming-Design/blob/master/week9_A108260099_%E5%91%82%E5%AD%A3%E9%9C%96.ipynb\" target=\"_parent\"><img src=\"https://colab.research.google.com/assets/colab-badge.svg\" alt=\"Open In Colab\"/></a>"
      ]
    },
    {
      "cell_type": "code",
      "metadata": {
        "id": "GES7zvyBgEFt",
        "colab_type": "code",
        "colab": {
          "base_uri": "https://localhost:8080/",
          "height": 51
        },
        "outputId": "5630bf7f-66c5-4cc7-cceb-0ac4c1e0ca86"
      },
      "source": [
        "score= int(input(\"請輸入一個成績\"))\n",
        "if score >= 60:\n",
        " print('很好，請繼續保持下去')\n",
        " "
      ],
      "execution_count": 1,
      "outputs": [
        {
          "output_type": "stream",
          "text": [
            "請輸入一個成績88\n",
            "很好，請繼續保持下去\n"
          ],
          "name": "stdout"
        }
      ]
    },
    {
      "cell_type": "code",
      "metadata": {
        "id": "wl7LVd5hhV9l",
        "colab_type": "code",
        "colab": {
          "base_uri": "https://localhost:8080/",
          "height": 51
        },
        "outputId": "82fa682c-8c3a-411c-8290-c51c5a291e99"
      },
      "source": [
        "score = int(input('請輸入⼀個成績？'))\n",
        "if score >= 60:\n",
        " print('有及格ㄡ～')\n",
        "else:\n",
        " print('不及格ㄟ！')"
      ],
      "execution_count": 2,
      "outputs": [
        {
          "output_type": "stream",
          "text": [
            "請輸入⼀個成績？50\n",
            "不及格ㄟ！\n"
          ],
          "name": "stdout"
        }
      ]
    },
    {
      "cell_type": "code",
      "metadata": {
        "id": "PIEg4iEXhgfG",
        "colab_type": "code",
        "colab": {
          "base_uri": "https://localhost:8080/",
          "height": 51
        },
        "outputId": "90387479-ac55-4e7e-b2b7-83b9529b742c"
      },
      "source": [
        "score = int(input('請輸入⼀個成績？'))\n",
        "if score >= 80:\n",
        " print('非常好')\n",
        "elif score >= 60:\n",
        " print('不錯喔')\n",
        "else:\n",
        " print('要加油')\n",
        " "
      ],
      "execution_count": 3,
      "outputs": [
        {
          "output_type": "stream",
          "text": [
            "請輸入⼀個成績？66\n",
            "不錯喔\n"
          ],
          "name": "stdout"
        }
      ]
    },
    {
      "cell_type": "code",
      "metadata": {
        "id": "eAuuIK8mh-Sn",
        "colab_type": "code",
        "colab": {
          "base_uri": "https://localhost:8080/",
          "height": 68
        },
        "outputId": "0f7297a3-76b8-4343-bbdc-4065b521ae6e"
      },
      "source": [
        "x = float(input('請輸入該點的X座標？')) \n",
        "y = float(input('請輸入該點的Y座標？'))\n",
        "if (x > 0):\n",
        " if (y > 0):\n",
        "   print('該點在第⼀象限') \n",
        " else:\n",
        "   print('該點在第四象限') \n",
        "else:\n",
        " if (y > 0):\n",
        "   print('該點在第⼆象限') \n",
        " else:\n",
        "   print('該點在第三象限') "
      ],
      "execution_count": 7,
      "outputs": [
        {
          "output_type": "stream",
          "text": [
            "請輸入該點的X座標？1\n",
            "請輸入該點的Y座標？1\n",
            "該點在第⼀象限\n"
          ],
          "name": "stdout"
        }
      ]
    },
    {
      "cell_type": "code",
      "metadata": {
        "id": "Mnw2hpcaib2x",
        "colab_type": "code",
        "colab": {
          "base_uri": "https://localhost:8080/",
          "height": 51
        },
        "outputId": "6f17535c-df6c-4c7d-a2dd-d800ba02a6cb"
      },
      "source": [
        "cost = int(input('請輸入購買⾦額？'))\n",
        "if cost >= 2000:\n",
        " print(cost * 0.9)\n",
        "else:\n",
        " print(cost)"
      ],
      "execution_count": 8,
      "outputs": [
        {
          "output_type": "stream",
          "text": [
            "請輸入購買⾦額？2000\n",
            "1800.0\n"
          ],
          "name": "stdout"
        }
      ]
    },
    {
      "cell_type": "code",
      "metadata": {
        "id": "u9NA1hG6ikZg",
        "colab_type": "code",
        "colab": {
          "base_uri": "https://localhost:8080/",
          "height": 51
        },
        "outputId": "7a1dcf12-46af-4850-e11e-591a0714e9be"
      },
      "source": [
        "num = int(input('請輸入⼀個整數？'))\n",
        "if num % 2 == 0: \n",
        " print(num, '為偶數')\n",
        "else:\n",
        " print(num, '為奇數')"
      ],
      "execution_count": 10,
      "outputs": [
        {
          "output_type": "stream",
          "text": [
            "請輸入⼀個整數？13\n",
            "13 為奇數\n"
          ],
          "name": "stdout"
        }
      ]
    },
    {
      "cell_type": "code",
      "metadata": {
        "id": "7-aXFWgAjRVZ",
        "colab_type": "code",
        "colab": {
          "base_uri": "https://localhost:8080/",
          "height": 85
        },
        "outputId": "f2951fe9-793c-41d0-da55-90f33cc0075c"
      },
      "source": [
        "a = int(input('請輸入三⾓形邊長a長度為？'))\n",
        "b = int(input('請輸入三⾓形邊長b長度為？'))\n",
        "c = int(input('請輸入三⾓形邊長c長度為？'))\n",
        "if (a<b+c)and(b<a+c)and(c<a+b): \n",
        " print('可構成三⾓形')\n",
        "else:\n",
        " print('無法構成三⾓形')"
      ],
      "execution_count": 11,
      "outputs": [
        {
          "output_type": "stream",
          "text": [
            "請輸入三⾓形邊長a長度為？11\n",
            "請輸入三⾓形邊長b長度為？12\n",
            "請輸入三⾓形邊長c長度為？13\n",
            "可構成三⾓形\n"
          ],
          "name": "stdout"
        }
      ]
    },
    {
      "cell_type": "code",
      "metadata": {
        "id": "TLcr7t22jcks",
        "colab_type": "code",
        "colab": {
          "base_uri": "https://localhost:8080/",
          "height": 85
        },
        "outputId": "0c1d8637-f803-4238-c957-aafb53e585a3"
      },
      "source": [
        "w = float(input('請輸入體重(KG)？')) \n",
        "h = float(input('請輸入⾝⾼(M)？'))\n",
        "bmi = w/(h*h) \n",
        "print('BMI為', bmi) \n",
        "\n",
        "if bmi < 18:\n",
        " print('體重過輕')\n",
        "elif bmi < 24:\n",
        " print('體重正常')\n",
        "elif bmi < 27:\n",
        " print('體重過重')\n",
        "else:\n",
        " print('體重肥胖')"
      ],
      "execution_count": 12,
      "outputs": [
        {
          "output_type": "stream",
          "text": [
            "請輸入體重(KG)？75\n",
            "請輸入⾝⾼(M)？1.7\n",
            "BMI為 25.95155709342561\n",
            "體重過重\n"
          ],
          "name": "stdout"
        }
      ]
    }
  ]
}